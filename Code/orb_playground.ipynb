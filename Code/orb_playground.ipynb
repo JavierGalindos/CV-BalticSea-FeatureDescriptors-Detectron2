{
 "cells": [
  {
   "cell_type": "code",
   "execution_count": 1,
   "metadata": {},
   "outputs": [
    {
     "name": "stdout",
     "output_type": "stream",
     "text": [
      "g:\\My Drive\\1. EIT Digital master\\Estland\\Semester 1\\Computer vision\\its8030-2021-hw2\\Code\n"
     ]
    }
   ],
   "source": [
    "import numpy as np\n",
    "import cv2\n",
    "from matplotlib import pyplot as plt\n",
    "import os\n",
    "\n",
    "print(os.getcwd())"
   ]
  },
  {
   "cell_type": "code",
   "execution_count": 2,
   "metadata": {},
   "outputs": [],
   "source": [
    "os.chdir(\"g:\\\\My Drive\\\\1. EIT Digital master\\\\Estland\\\\Semester 1\\\\Computer vision\\\\its8030-2021-hw2\\\\\")"
   ]
  },
  {
   "cell_type": "code",
   "execution_count": 108,
   "metadata": {},
   "outputs": [
    {
     "name": "stdout",
     "output_type": "stream",
     "text": [
      "(829, 177)\n"
     ]
    },
    {
     "data": {
      "image/png": "[encoded data removed]",
      "text/plain": [
       "<Figure size 432x288 with 1 Axes>"
      ]
     },
     "metadata": {
      "needs_background": "light"
     },
     "output_type": "display_data"
    },
    {
     "data": {
      "text/plain": [
       "(<matplotlib.image.AxesImage at 0x25d16830bb0>, None)"
      ]
     },
     "execution_count": 108,
     "metadata": {},
     "output_type": "execute_result"
    }
   ],
   "source": [
    "### checking etalon features\n",
    "\n",
    "img = cv2.imread('Etalons/Zostera marina/etalon_zostera_marina_15.jpg',0)\n",
    "print(img.shape)\n",
    "\n",
    "\n",
    "# Initiate ORB detector\n",
    "orb = cv2.ORB_create()\n",
    "# find the keypoints with ORB\n",
    "kp = orb.detect(img,None)\n",
    "# compute the descriptors with ORB\n",
    "kp, des = orb.compute(img, kp)\n",
    "# draw only keypoints location,not size and orientation\n",
    "img2 = cv2.drawKeypoints(img, kp, None, color=(0,255,0), flags=0)\n",
    "plt.imshow(img2), plt.show()"
   ]
  },
  {
   "cell_type": "code",
   "execution_count": 117,
   "metadata": {},
   "outputs": [
    {
     "name": "stdout",
     "output_type": "stream",
     "text": [
      "(829, 177)\n"
     ]
    },
    {
     "data": {
      "text/plain": [
       "-1"
      ]
     },
     "execution_count": 117,
     "metadata": {},
     "output_type": "execute_result"
    }
   ],
   "source": [
    "# Read the query image as query_img\n",
    "# and train image This query image\n",
    "# is what you need to find in train image\n",
    "# Save it in the same directory\n",
    "# with the name image.jpg \n",
    "query_img_bw = cv2.imread('Etalons/Zostera marina/etalon_zostera_marina_15.jpg',0)\n",
    "#train_img_bw = cv2.imread('Processed images/Fucus/Fucus_0.jpg',0)\n",
    "train_img_bw = cv2.imread('Processed images/Zostera marina/zostera_marina_1.png',0)\n",
    "#train_img_bw = cv2.imread('Processed images/Fucus/Fucus_13.jpg',0)\n",
    "\n",
    "print(query_img_bw.shape)\n",
    "  \n",
    "# Convert it to grayscale\n",
    "# query_img_bw = cv2.cvtColor(query_img,cv2.COLOR_BGR2GRAY)\n",
    "# train_img_bw = cv2.cvtColor(train_img, cv2.COLOR_BGR2GRAY)\n",
    "  \n",
    "# Initialize the ORB detector algorithm\n",
    "orb = cv2.ORB_create()\n",
    "  \n",
    "# Now detect the keypoints and compute\n",
    "# the descriptors for the query image\n",
    "# and train image\n",
    "queryKeypoints, queryDescriptors = orb.detectAndCompute(query_img_bw,None)\n",
    "trainKeypoints, trainDescriptors = orb.detectAndCompute(train_img_bw,None)\n",
    " \n",
    "# Initialize the Matcher for matching\n",
    "# the keypoints and then match the\n",
    "# keypoints\n",
    "\n",
    "#matcher = cv2.DescriptorMatcher_create('BruteForce-L1') #BruteForce = L2, BruteForce-L1\n",
    "matcher = cv2.BFMatcher(cv2.NORMCONV_FILTER)\n",
    "matches = matcher.match(queryDescriptors,trainDescriptors)\n",
    "  \n",
    "\n",
    "matches = sorted(matches, key = lambda x:x.distance)\n",
    "# draw the matches to the final image\n",
    "# containing both the images the drawMatches()\n",
    "# function takes both images and keypoints\n",
    "# and outputs the matched query image with\n",
    "# its train image\n",
    "final_img = cv2.drawMatches(query_img_bw, queryKeypoints,\n",
    "train_img_bw, trainKeypoints, matches[:5],None)\n",
    "  \n",
    "final_img = cv2.resize(final_img, (1000,650))\n",
    " \n",
    "# Show the final image\n",
    "cv2.imshow(\"Matches\", final_img)\n",
    "cv2.waitKey(0)"
   ]
  },
  {
   "cell_type": "code",
   "execution_count": 18,
   "metadata": {},
   "outputs": [],
   "source": [
    "### Getting a score\n",
    "\n",
    "\n",
    "# This time, we will use BFMatcher.knnMatch() to get k best matches. \n",
    "# In this example, we will take k=2 so that we can apply ratio test \n",
    "# explained by D.Lowe in his paper. \n",
    "\n",
    "import numpy as np\n",
    "import cv2\n",
    "import matplotlib.pyplot as plt\n",
    "import os\n",
    "\n",
    "os.chdir(\"g:\\\\My Drive\\\\1. EIT Digital master\\\\Estland\\\\Semester 1\\\\Computer vision\\\\its8030-2021-hw2\\\\\")\n",
    "\n",
    "def FDBaseline(classtype_etalon = 'Fucus', classtype_train = 'Fucus', lowe_ratio = 0.7, method = 'ORB'):\n",
    "\n",
    "    etalon_dir_path = './etalons/'\n",
    "    process_img_path = './Processed images/'\n",
    "\n",
    "    etalon_dir_path = os.path.join(etalon_dir_path, classtype_etalon)\n",
    "    process_img_path = os.path.join(process_img_path, classtype_train)\n",
    "\n",
    "    results = np.zeros(shape=(len(os.listdir(process_img_path)), len(os.listdir(etalon_dir_path))))\n",
    "\n",
    "    row = 0\n",
    "    for img_path in os.listdir(process_img_path):\n",
    "        \n",
    "        folder_path_img= os.path.join(process_img_path, img_path)\n",
    "        img = cv2.imread(folder_path_img,0)\n",
    "\n",
    "        col = 0\n",
    "        for etalon_path in os.listdir(etalon_dir_path):\n",
    "            \n",
    "            etalon_path_img= os.path.join(etalon_dir_path, etalon_path)\n",
    "            etalon = cv2.imread(etalon_path_img,0)\n",
    "\n",
    "            if method == 'ORB':\n",
    "                finder = cv2.ORB_create()\n",
    "\n",
    "            # find the keypoints and descriptors with SIFT\n",
    "            kp1, des1 = finder.detectAndCompute(etalon,None)\n",
    "            kp2, des2 = finder.detectAndCompute(img,None)\n",
    "\n",
    "            # BFMatcher with default params\n",
    "            bf = cv2.BFMatcher()\n",
    "            matches = bf.knnMatch(des1,des2, k=2)\n",
    "\n",
    "            # Apply ratio test\n",
    "            good = []\n",
    "\n",
    "            good = [[m] for m, n in matches if m.distance < lowe_ratio*n.distance]\n",
    "\n",
    "            # msg1 = 'using %s with lowe_ratio %.2f' % (method, lowe_ratio)\n",
    "            # msg2 = 'there are %d good matches' % (len(good))\n",
    "\n",
    "            # img3 = cv2.drawMatchesKnn(etalon,kp1,img,kp2,good, None, flags=2)\n",
    "\n",
    "            # font = cv2.FONT_HERSHEY_SIMPLEX\n",
    "\n",
    "            results[row][col] = len(good)\n",
    "            # print(msg1)\n",
    "            # print(msg2)\n",
    "            # cv2.putText(img3,msg1,(10, 250), font, 0.5,(255,255,255),1,cv2.LINE_AA)\n",
    "            # cv2.putText(img3,msg2,(10, 270), font, 0.5,(255,255,255),1,cv2.LINE_AA)\n",
    "            # fname = 'output_%s_%.2f.png' % (method, lowe_ratio)\n",
    "            # cv2.imwrite(fname, img3)\n",
    "            col += 1\n",
    "            #plt.imshow(img3),plt.show()\n",
    "        row += 1\n",
    "    return results"
   ]
  },
  {
   "cell_type": "code",
   "execution_count": 32,
   "metadata": {},
   "outputs": [
    {
     "name": "stdout",
     "output_type": "stream",
     "text": [
      "[ 2. 23.  1.  1.  2.  1.  1.  2.  5.  1.  1.  2.  1.  2.  1.  2.  0.  2.\n",
      "  2.  1.  1.  1.  0.  1.  1.  1.  0.  0.  0.  0.  1.  3.  1.  0.  2.  1.\n",
      "  1.  2.  1.  0.  0.  1.  9.  1.  1.  1.  1.  3.  0.  1.  1.  0.  1.  1.\n",
      "  1.]\n",
      "1.6727272727272726\n"
     ]
    }
   ],
   "source": [
    "results = FDBaseline(classtype_etalon = 'Fucus', classtype_train = 'Fucus', lowe_ratio = 0.7, method = 'ORB')\n",
    "print(np.amax(results,1))\n",
    "print(np.mean(np.amax(results,1)))"
   ]
  },
  {
   "cell_type": "code",
   "execution_count": 33,
   "metadata": {},
   "outputs": [
    {
     "data": {
      "text/plain": [
       "array([[ 2.,  0.,  0.,  0.],\n",
       "       [ 1., 23.,  0.,  0.],\n",
       "       [ 1.,  0.,  0.,  0.],\n",
       "       [ 0.,  1.,  0.,  0.],\n",
       "       [ 1.,  0.,  2.,  1.],\n",
       "       [ 0.,  1.,  1.,  0.],\n",
       "       [ 1.,  0.,  0.,  0.],\n",
       "       [ 0.,  1.,  2.,  1.],\n",
       "       [ 5.,  0.,  1.,  0.],\n",
       "       [ 1.,  0.,  0.,  0.],\n",
       "       [ 1.,  0.,  0.,  0.],\n",
       "       [ 2.,  1.,  0.,  0.],\n",
       "       [ 1.,  0.,  0.,  0.],\n",
       "       [ 0.,  2.,  0.,  0.],\n",
       "       [ 0.,  1.,  0.,  0.],\n",
       "       [ 2.,  0.,  2.,  0.],\n",
       "       [ 0.,  0.,  0.,  0.],\n",
       "       [ 2.,  1.,  1.,  0.],\n",
       "       [ 2.,  0.,  0.,  0.],\n",
       "       [ 1.,  0.,  1.,  0.],\n",
       "       [ 0.,  1.,  1.,  0.],\n",
       "       [ 1.,  0.,  1.,  0.],\n",
       "       [ 0.,  0.,  0.,  0.],\n",
       "       [ 1.,  0.,  1.,  0.],\n",
       "       [ 1.,  0.,  1.,  0.],\n",
       "       [ 1.,  1.,  0.,  1.],\n",
       "       [ 0.,  0.,  0.,  0.],\n",
       "       [ 0.,  0.,  0.,  0.],\n",
       "       [ 0.,  0.,  0.,  0.],\n",
       "       [ 0.,  0.,  0.,  0.],\n",
       "       [ 1.,  0.,  0.,  0.],\n",
       "       [ 3.,  0.,  0.,  0.],\n",
       "       [ 1.,  0.,  0.,  0.],\n",
       "       [ 0.,  0.,  0.,  0.],\n",
       "       [ 2.,  0.,  0.,  0.],\n",
       "       [ 0.,  0.,  0.,  1.],\n",
       "       [ 1.,  1.,  0.,  0.],\n",
       "       [ 2.,  0.,  1.,  0.],\n",
       "       [ 0.,  0.,  0.,  1.],\n",
       "       [ 0.,  0.,  0.,  0.],\n",
       "       [ 0.,  0.,  0.,  0.],\n",
       "       [ 1.,  0.,  0.,  0.],\n",
       "       [ 9.,  0.,  0.,  0.],\n",
       "       [ 0.,  1.,  0.,  0.],\n",
       "       [ 0.,  1.,  0.,  0.],\n",
       "       [ 1.,  0.,  0.,  0.],\n",
       "       [ 0.,  1.,  0.,  0.],\n",
       "       [ 3.,  0.,  0.,  0.],\n",
       "       [ 0.,  0.,  0.,  0.],\n",
       "       [ 0.,  0.,  1.,  0.],\n",
       "       [ 1.,  0.,  0.,  0.],\n",
       "       [ 0.,  0.,  0.,  0.],\n",
       "       [ 1.,  1.,  1.,  0.],\n",
       "       [ 0.,  1.,  0.,  1.],\n",
       "       [ 0.,  0.,  1.,  0.]])"
      ]
     },
     "execution_count": 33,
     "metadata": {},
     "output_type": "execute_result"
    }
   ],
   "source": [
    "results"
   ]
  },
  {
   "cell_type": "code",
   "execution_count": 36,
   "metadata": {},
   "outputs": [
    {
     "data": {
      "text/plain": [
       "0.09"
      ]
     },
     "execution_count": 36,
     "metadata": {},
     "output_type": "execute_result"
    }
   ],
   "source": [
    "#how many good classifications do we consider to be good?\n",
    "our_threshold = 2\n",
    "\n",
    "max_vals = (np.amax(results,1))\n",
    "good_classifc = np.count_nonzero((max_vals > our_threshold))\n",
    "\n",
    "ratio = round(good_classifc / results.shape[0],2)\n",
    "ratio"
   ]
  },
  {
   "cell_type": "code",
   "execution_count": 90,
   "metadata": {},
   "outputs": [],
   "source": [
    "def FDpredict(img_select = './Processed images/Fucus/Fucus_0.jpg', lowe_ratio = 0.7, method = 'ORB' ):\n",
    "    etalon_dir_path = './Etalons/'\n",
    "    im_results = np.zeros(shape=(1,10)) #10 because we dont know the exact amount of etalons\n",
    "    final_results = np.zeros(shape=(1,3))\n",
    "\n",
    "    img = cv2.imread(img_select,0)\n",
    "    col_final = 0\n",
    "    for etalon_folder in os.listdir(etalon_dir_path):\n",
    "        col_im = 0\n",
    "\n",
    "        class_etalon = os.path.join(etalon_dir_path, etalon_folder)\n",
    "        \n",
    "        for etalon_path in os.listdir(class_etalon):\n",
    "            \n",
    "            etalon_path_img= os.path.join(class_etalon, etalon_path)\n",
    "            etalon = cv2.imread(etalon_path_img,0)\n",
    "\n",
    "\n",
    "            if method == 'ORB':\n",
    "                finder = cv2.ORB_create()\n",
    "\n",
    "            # find the keypoints and descriptors with SIFT\n",
    "            kp1, des1 = finder.detectAndCompute(etalon,None)\n",
    "            kp2, des2 = finder.detectAndCompute(img,None)\n",
    "\n",
    "            # BFMatcher with default params\n",
    "            bf = cv2.BFMatcher()\n",
    "            matches = bf.knnMatch(des1,des2, k=2)\n",
    "\n",
    "            # Apply ratio test\n",
    "            good = []\n",
    "\n",
    "            good = [[m] for m, n in matches if m.distance < lowe_ratio*n.distance]\n",
    "\n",
    "            # msg1 = 'using %s with lowe_ratio %.2f' % (method, lowe_ratio)\n",
    "            # msg2 = 'there are %d good matches' % (len(good))\n",
    "\n",
    "            # img3 = cv2.drawMatchesKnn(etalon,kp1,img,kp2,good, None, flags=2)\n",
    "\n",
    "            # font = cv2.FONT_HERSHEY_SIMPLEX\n",
    "\n",
    "            im_results[0][col_im] = len(good)\n",
    "            # print(msg1)\n",
    "            # print(msg2)\n",
    "            # cv2.putText(img3,msg1,(10, 250), font, 0.5,(255,255,255),1,cv2.LINE_AA)\n",
    "            # cv2.putText(img3,msg2,(10, 270), font, 0.5,(255,255,255),1,cv2.LINE_AA)\n",
    "            # fname = 'output_%s_%.2f.png' % (method, lowe_ratio)\n",
    "            # cv2.imwrite(fname, img3)\n",
    "            col_im += 1\n",
    "            #plt.imshow(img3),plt.show()\n",
    "        final_results[0][col_final] = np.sum(im_results)/len(os.listdir(etalon_dir_path)) #get average so that it is not biased with number of etalons\n",
    "        col_final += 1\n",
    "    return final_results"
   ]
  },
  {
   "cell_type": "code",
   "execution_count": 104,
   "metadata": {},
   "outputs": [
    {
     "name": "stdout",
     "output_type": "stream",
     "text": [
      "Accuracy: 0.64%\n"
     ]
    }
   ],
   "source": [
    "os.chdir(\"g:\\\\My Drive\\\\1. EIT Digital master\\\\Estland\\\\Semester 1\\\\Computer vision\\\\its8030-2021-hw2\\\\\")\n",
    "\n",
    "\n",
    "#img = './Processed images/Furcellaria lumbricalis/furcellaria_lumbricalis_14.jpg'\n",
    "\n",
    "correct = 0\n",
    "for file in os.listdir('./Processed images/Fucus/'):\n",
    "    img_path = os.path.join('./Processed images/Fucus/', file)\n",
    "    results = FDpredict(img_select = img_path, lowe_ratio = 0.75, method = 'ORB' )\n",
    "    if(np.argmax(results) == 0):\n",
    "    #     print('Predicted %s as: Fucus' %results )\n",
    "        correct+=1\n",
    "\n",
    "\n",
    "    # elif(np.argmax(results) == 1):\n",
    "    #     print('Predicted %s as: Furcellaria lumbricalis' %results )\n",
    "\n",
    "    # else:\n",
    "    #     print('Predicted %s as: Zostera marina' %results )\n",
    "\n",
    "print(\"Fucus accuracy: %s%%\" %(str(round(correct/len(os.listdir('./Processed images/Fucus/')),2))))"
   ]
  },
  {
   "cell_type": "code",
   "execution_count": 106,
   "metadata": {},
   "outputs": [
    {
     "name": "stdout",
     "output_type": "stream",
     "text": [
      "Accuracy: 0.44%\n"
     ]
    }
   ],
   "source": [
    "os.chdir(\"g:\\\\My Drive\\\\1. EIT Digital master\\\\Estland\\\\Semester 1\\\\Computer vision\\\\its8030-2021-hw2\\\\\")\n",
    "\n",
    "\n",
    "#img = './Processed images/Furcellaria lumbricalis/furcellaria_lumbricalis_14.jpg'\n",
    "\n",
    "correct = 0\n",
    "for file in os.listdir('./Processed images/Furcellaria lumbricalis/'):\n",
    "    img_path = os.path.join('./Processed images/Furcellaria lumbricalis/', file)\n",
    "    results = FDpredict(img_select = img_path, lowe_ratio = 0.75, method = 'ORB' )\n",
    "    #if(np.argmax(results) == 0):\n",
    "    #     print('Predicted %s as: Fucus' %results )\n",
    "    #    correct+=1\n",
    "\n",
    "\n",
    "    if(np.argmax(results) == 1):\n",
    "        correct+=1\n",
    "    #     print('Predicted %s as: Furcellaria lumbricalis' %results )\n",
    "\n",
    "    # else:\n",
    "    #     print('Predicted %s as: Zostera marina' %results )\n",
    "\n",
    "print(\"Furcellaria accuracy: %s%%\" %(str(round(correct/len(os.listdir('./Processed images/Fucus/')),2))))"
   ]
  },
  {
   "cell_type": "code",
   "execution_count": 107,
   "metadata": {},
   "outputs": [
    {
     "name": "stdout",
     "output_type": "stream",
     "text": [
      "Accuracy: 0.24%\n"
     ]
    }
   ],
   "source": [
    "os.chdir(\"g:\\\\My Drive\\\\1. EIT Digital master\\\\Estland\\\\Semester 1\\\\Computer vision\\\\its8030-2021-hw2\\\\\")\n",
    "\n",
    "\n",
    "#img = './Processed images/Furcellaria lumbricalis/furcellaria_lumbricalis_14.jpg'\n",
    "\n",
    "correct = 0\n",
    "for file in os.listdir('./Processed images/Zostera marina/'):\n",
    "    img_path = os.path.join('./Processed images/Zostera marina/', file)\n",
    "    results = FDpredict(img_select = img_path, lowe_ratio = 0.75, method = 'ORB' )\n",
    "    #if(np.argmax(results) == 0):\n",
    "    #     print('Predicted %s as: Fucus' %results )\n",
    "    #    correct+=1\n",
    "\n",
    "\n",
    "    #if(np.argmax(results) == 1):\n",
    "    #     print('Predicted %s as: Furcellaria lumbricalis' %results )\n",
    "\n",
    "    if(np.argmax(results) == 2):\n",
    "        correct+=1\n",
    "    #     print('Predicted %s as: Zostera marina' %results )\n",
    "\n",
    "print(\"Zostera accuracy: %s%%\" %(str(round(correct/len(os.listdir('./Processed images/Fucus/')),2))))"
   ]
  }
 ],
 "metadata": {
  "interpreter": {
   "hash": "d2f780d3fa0f233da220727534c26375caac5692cb408a3c2164f85e81e52cd5"
  },
  "kernelspec": {
   "display_name": "Python 3.9.7 64-bit",
   "name": "python3"
  },
  "language_info": {
   "codemirror_mode": {
    "name": "ipython",
    "version": 3
   },
   "file_extension": ".py",
   "mimetype": "text/x-python",
   "name": "python",
   "nbconvert_exporter": "python",
   "pygments_lexer": "ipython3",
   "version": "3.9.7"
  },
  "orig_nbformat": 4
 },
 "nbformat": 4,
 "nbformat_minor": 2
}
