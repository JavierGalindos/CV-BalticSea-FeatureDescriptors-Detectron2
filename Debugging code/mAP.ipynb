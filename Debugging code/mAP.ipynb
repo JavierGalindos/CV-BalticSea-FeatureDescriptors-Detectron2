{
 "cells": [
  {
   "cell_type": "code",
   "execution_count": 1,
   "metadata": {
    "pycharm": {
     "is_executing": true
    }
   },
   "outputs": [],
   "source": [
    "import numpy as np\n",
    "from mean_average_precision import MetricBuilder"
   ]
  },
  {
   "cell_type": "code",
   "execution_count": 9,
   "metadata": {
    "pycharm": {
     "name": "#%%\n"
    }
   },
   "outputs": [],
   "source": [
    "# [xmin, ymin, xmax, ymax, class_id, difficult, crowd]\n",
    "gt = np.array([\n",
    "    [439, 157, 556, 241, 0, 0, 0],\n",
    "    [437, 246, 518, 351, 0, 0, 0],\n",
    "    [515, 306, 595, 375, 0, 0, 0],\n",
    "    [407, 386, 531, 476, 0, 0, 0],\n",
    "    [544, 419, 621, 476, 0, 0, 0],\n",
    "    [609, 297, 636, 392, 0, 0, 0]\n",
    "])\n",
    "\n",
    "# [xmin, ymin, xmax, ymax, class_id, confidence]\n",
    "preds = np.array([\n",
    "    [429, 219, 528, 247, 0, 0.460851],\n",
    "    [433, 260, 506, 336, 0, 0.269833],\n",
    "    [518, 314, 603, 369, 0, 0.462608],\n",
    "    [592, 310, 634, 388, 0, 0.298196],\n",
    "    [403, 384, 517, 461, 0, 0.382881],\n",
    "    [405, 429, 519, 470, 0, 0.369369],\n",
    "    [433, 272, 499, 341, 0, 0.272826],\n",
    "    [413, 390, 515, 459, 0, 0.619459]\n",
    "])\n"
   ]
  },
  {
   "cell_type": "code",
   "execution_count": 61,
   "metadata": {
    "pycharm": {
     "name": "#%%\n"
    }
   },
   "outputs": [],
   "source": [
    "# [xmin, ymin, xmax, ymax, class_id, difficult, crowd]\n",
    "gt = np.array([\n",
    "    [161, 204, 798, 950, 0, 0, 0]\n",
    "])\n",
    "\n",
    "# [xmin, ymin, xmax, ymax, class_id, confidence]\n",
    "preds = np.array([\n",
    "    [0, 0, 1024, 1024, 0, 0.75],\n",
    "    [0, 0, 1024, 1024, 0, 0.75]\n",
    "])"
   ]
  },
  {
   "cell_type": "code",
   "execution_count": 62,
   "metadata": {
    "pycharm": {
     "name": "#%%\n"
    }
   },
   "outputs": [
    {
     "name": "stdout",
     "output_type": "stream",
     "text": [
      "['map_2d']\n"
     ]
    }
   ],
   "source": [
    "# print list of available metrics\n",
    "print(MetricBuilder.get_metrics_list())\n",
    "\n",
    "# create metric_fn\n",
    "metric_fn = MetricBuilder.build_evaluation_metric(\"map_2d\", async_mode=True, num_classes=1)\n",
    "\n",
    "# add some samples to evaluation\n",
    "for i in range(10):\n",
    "    metric_fn.add(preds, gt)"
   ]
  },
  {
   "cell_type": "code",
   "execution_count": 64,
   "metadata": {
    "pycharm": {
     "name": "#%%\n"
    }
   },
   "outputs": [
    {
     "name": "stdout",
     "output_type": "stream",
     "text": [
      "VOC PASCAL mAP: 0.6865981221199036\n",
      "VOC PASCAL mAP in all points: 0.6664484143257141\n",
      "COCO mAP: 0.0\n"
     ]
    }
   ],
   "source": [
    "# compute PASCAL VOC metric\n",
    "print(f\"VOC PASCAL mAP: {metric_fn.value(iou_thresholds=0.1, recall_thresholds=np.arange(0., 1.1, 0.1))['mAP']}\")\n",
    "\n",
    "# compute PASCAL VOC metric at the all points\n",
    "print(f\"VOC PASCAL mAP in all points: {metric_fn.value(iou_thresholds=0.1)['mAP']}\")\n",
    "\n",
    "# compute metric COCO metric\n",
    "print(f\"COCO mAP: {metric_fn.value(iou_thresholds=np.arange(0.5, 1.0, 0.05), recall_thresholds=np.arange(0., 1.01, 0.01), mpolicy='soft')['mAP']}\")\n"
   ]
  },
  {
   "cell_type": "code",
   "execution_count": 1,
   "metadata": {
    "pycharm": {
     "name": "#%%\n"
    }
   },
   "outputs": [
    {
     "data": {
      "text/plain": "<BarContainer object of 4 artists>"
     },
     "execution_count": 1,
     "metadata": {},
     "output_type": "execute_result"
    },
    {
     "data": {
      "text/plain": "<Figure size 432x288 with 1 Axes>",
      "image/png": "[encoded data removed]"
     },
     "metadata": {
      "needs_background": "light"
     },
     "output_type": "display_data"
    }
   ],
   "source": [
    "import numpy as np\n",
    "import matplotlib.pyplot as plt\n",
    "data = [[30, 25, 50, 20],\n",
    "[40, 23, 51, 17],\n",
    "[35, 22, 45, 19]]\n",
    "X = np.arange(4)\n",
    "fig = plt.figure()\n",
    "ax = fig.add_axes([0,0,1,1])\n",
    "ax.bar(X + 0.00, data[0], color = 'b', width = 0.25)\n",
    "ax.bar(X + 0.25, data[1], color = 'g', width = 0.25)\n",
    "ax.bar(X + 0.50, data[2], color = 'r', width = 0.25)\n",
    "ax.set_ylabel('mAP')\n",
    "ax.set_xticks(ind, ('G1', 'G2', 'G3', 'G4', 'G5'))\n",
    "ax.legend(labels=['Men', 'Women'])"
   ]
  },
  {
   "cell_type": "code",
   "execution_count": 4,
   "outputs": [
    {
     "data": {
      "text/plain": "<Figure size 864x576 with 1 Axes>",
      "image/png": "[encoded data removed]"
     },
     "metadata": {
      "needs_background": "light"
     },
     "output_type": "display_data"
    }
   ],
   "source": [
    "import numpy as np\n",
    "import matplotlib.pyplot as plt\n",
    "%matplotlib inline \n",
    "# set width of bar\n",
    "barWidth = 0.25\n",
    "fig = plt.subplots(figsize =(12, 8))\n",
    "\n",
    "# set height of bar\n",
    "SIFT = [0.0058, 0.0137, 0.0746]\n",
    "ORB = [0.0656, 0.0038, 0.0151]\n",
    "BRIEF = [0.0045, 0.0638, 0]\n",
    "\n",
    "# Set position of bar on X axis\n",
    "br1 = np.arange(len(SIFT))\n",
    "br2 = [x + barWidth for x in br1]\n",
    "br3 = [x + barWidth for x in br2]\n",
    "\n",
    "# Make the plot\n",
    "plt.bar(br1, SIFT, color ='r', width = barWidth,\n",
    "        edgecolor ='grey', label ='SIFT')\n",
    "plt.bar(br2, ORB, color ='g', width = barWidth,\n",
    "        edgecolor ='grey', label ='ORB')\n",
    "plt.bar(br3, BRIEF, color ='b', width = barWidth,\n",
    "        edgecolor ='grey', label ='BRIEF')\n",
    "\n",
    "# Adding Xticks\n",
    "plt.xlabel('Class', fontweight ='bold', fontsize = 12)\n",
    "plt.ylabel('mAP', fontweight ='bold', fontsize = 12)\n",
    "plt.xticks([r + barWidth for r in range(len(SIFT))],\n",
    "        ['Fucus', 'Zostera', 'Furcellaria'])\n",
    "\n",
    "plt.legend()\n",
    "plt.show()"
   ],
   "metadata": {
    "collapsed": false,
    "pycharm": {
     "name": "#%%\n"
    }
   }
  },
  {
   "cell_type": "code",
   "execution_count": null,
   "outputs": [],
   "source": [],
   "metadata": {
    "collapsed": false,
    "pycharm": {
     "name": "#%%\n"
    }
   }
  }
 ],
 "metadata": {
  "kernelspec": {
   "display_name": "Python 3 (ipykernel)",
   "language": "python",
   "name": "python3"
  },
  "language_info": {
   "codemirror_mode": {
    "name": "ipython",
    "version": 3
   },
   "file_extension": ".py",
   "mimetype": "text/x-python",
   "name": "python",
   "nbconvert_exporter": "python",
   "pygments_lexer": "ipython3",
   "version": "3.9.7"
  },
  "varInspector": {
   "cols": {
    "lenName": 16,
    "lenType": 16,
    "lenVar": 40
   },
   "kernels_config": {
    "python": {
     "delete_cmd_postfix": "",
     "delete_cmd_prefix": "del ",
     "library": "var_list.py",
     "varRefreshCmd": "print(var_dic_list())"
    },
    "r": {
     "delete_cmd_postfix": ") ",
     "delete_cmd_prefix": "rm(",
     "library": "var_list.r",
     "varRefreshCmd": "cat(var_dic_list()) "
    }
   },
   "types_to_exclude": [
    "module",
    "function",
    "builtin_function_or_method",
    "instance",
    "_Feature"
   ],
   "window_display": false
  }
 },
 "nbformat": 4,
 "nbformat_minor": 1
}