{
 "cells": [
  {
   "cell_type": "code",
   "execution_count": 1,
   "metadata": {
    "pycharm": {
     "is_executing": true
    }
   },
   "outputs": [],
   "source": [
    "import numpy as np\n",
    "from mean_average_precision import MetricBuilder"
   ]
  },
  {
   "cell_type": "code",
   "execution_count": 9,
   "metadata": {
    "pycharm": {
     "name": "#%%\n"
    }
   },
   "outputs": [],
   "source": [
    "# [xmin, ymin, xmax, ymax, class_id, difficult, crowd]\n",
    "gt = np.array([\n",
    "    [439, 157, 556, 241, 0, 0, 0],\n",
    "    [437, 246, 518, 351, 0, 0, 0],\n",
    "    [515, 306, 595, 375, 0, 0, 0],\n",
    "    [407, 386, 531, 476, 0, 0, 0],\n",
    "    [544, 419, 621, 476, 0, 0, 0],\n",
    "    [609, 297, 636, 392, 0, 0, 0]\n",
    "])\n",
    "\n",
    "# [xmin, ymin, xmax, ymax, class_id, confidence]\n",
    "preds = np.array([\n",
    "    [429, 219, 528, 247, 0, 0.460851],\n",
    "    [433, 260, 506, 336, 0, 0.269833],\n",
    "    [518, 314, 603, 369, 0, 0.462608],\n",
    "    [592, 310, 634, 388, 0, 0.298196],\n",
    "    [403, 384, 517, 461, 0, 0.382881],\n",
    "    [405, 429, 519, 470, 0, 0.369369],\n",
    "    [433, 272, 499, 341, 0, 0.272826],\n",
    "    [413, 390, 515, 459, 0, 0.619459]\n",
    "])\n"
   ]
  },
  {
   "cell_type": "code",
   "execution_count": 61,
   "metadata": {
    "pycharm": {
     "name": "#%%\n"
    }
   },
   "outputs": [],
   "source": [
    "# [xmin, ymin, xmax, ymax, class_id, difficult, crowd]\n",
    "gt = np.array([\n",
    "    [161, 204, 798, 950, 0, 0, 0]\n",
    "])\n",
    "\n",
    "# [xmin, ymin, xmax, ymax, class_id, confidence]\n",
    "preds = np.array([\n",
    "    [0, 0, 1024, 1024, 0, 0.75],\n",
    "    [0, 0, 1024, 1024, 0, 0.75]\n",
    "])"
   ]
  },
  {
   "cell_type": "code",
   "execution_count": 62,
   "metadata": {
    "pycharm": {
     "name": "#%%\n"
    }
   },
   "outputs": [
    {
     "name": "stdout",
     "output_type": "stream",
     "text": [
      "['map_2d']\n"
     ]
    }
   ],
   "source": [
    "# print list of available metrics\n",
    "print(MetricBuilder.get_metrics_list())\n",
    "\n",
    "# create metric_fn\n",
    "metric_fn = MetricBuilder.build_evaluation_metric(\"map_2d\", async_mode=True, num_classes=1)\n",
    "\n",
    "# add some samples to evaluation\n",
    "for i in range(10):\n",
    "    metric_fn.add(preds, gt)"
   ]
  },
  {
   "cell_type": "code",
   "execution_count": 64,
   "metadata": {
    "pycharm": {
     "name": "#%%\n"
    }
   },
   "outputs": [
    {
     "name": "stdout",
     "output_type": "stream",
     "text": [
      "VOC PASCAL mAP: 0.6865981221199036\n",
      "VOC PASCAL mAP in all points: 0.6664484143257141\n",
      "COCO mAP: 0.0\n"
     ]
    }
   ],
   "source": [
    "# compute PASCAL VOC metric\n",
    "print(f\"VOC PASCAL mAP: {metric_fn.value(iou_thresholds=0.1, recall_thresholds=np.arange(0., 1.1, 0.1))['mAP']}\")\n",
    "\n",
    "# compute PASCAL VOC metric at the all points\n",
    "print(f\"VOC PASCAL mAP in all points: {metric_fn.value(iou_thresholds=0.1)['mAP']}\")\n",
    "\n",
    "# compute metric COCO metric\n",
    "print(f\"COCO mAP: {metric_fn.value(iou_thresholds=np.arange(0.5, 1.0, 0.05), recall_thresholds=np.arange(0., 1.01, 0.01), mpolicy='soft')['mAP']}\")\n"
   ]
  },
  {
   "cell_type": "code",
   "execution_count": null,
   "metadata": {
    "pycharm": {
     "name": "#%%\n"
    }
   },
   "outputs": [],
   "source": []
  }
 ],
 "metadata": {
  "kernelspec": {
   "display_name": "Python 3 (ipykernel)",
   "language": "python",
   "name": "python3"
  },
  "language_info": {
   "codemirror_mode": {
    "name": "ipython",
    "version": 3
   },
   "file_extension": ".py",
   "mimetype": "text/x-python",
   "name": "python",
   "nbconvert_exporter": "python",
   "pygments_lexer": "ipython3",
   "version": "3.9.7"
  },
  "varInspector": {
   "cols": {
    "lenName": 16,
    "lenType": 16,
    "lenVar": 40
   },
   "kernels_config": {
    "python": {
     "delete_cmd_postfix": "",
     "delete_cmd_prefix": "del ",
     "library": "var_list.py",
     "varRefreshCmd": "print(var_dic_list())"
    },
    "r": {
     "delete_cmd_postfix": ") ",
     "delete_cmd_prefix": "rm(",
     "library": "var_list.r",
     "varRefreshCmd": "cat(var_dic_list()) "
    }
   },
   "types_to_exclude": [
    "module",
    "function",
    "builtin_function_or_method",
    "instance",
    "_Feature"
   ],
   "window_display": false
  }
 },
 "nbformat": 4,
 "nbformat_minor": 1
}